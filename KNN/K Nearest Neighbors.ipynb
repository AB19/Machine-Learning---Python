{
 "cells": [
  {
   "cell_type": "markdown",
   "metadata": {},
   "source": [
    "### KNN - K nearest neighbors (Non parametric classification)\n",
    "\n",
    "### 1. Numpy "
   ]
  },
  {
   "cell_type": "code",
   "execution_count": 1,
   "metadata": {},
   "outputs": [],
   "source": [
    "import numpy as np\n",
    "import pandas as pd\n",
    "import matplotlib.pyplot as plt\n",
    "%matplotlib inline"
   ]
  },
  {
   "cell_type": "code",
   "execution_count": 2,
   "metadata": {},
   "outputs": [],
   "source": [
    "# function to read data and get features and labels\n",
    "# arguments: filename\n",
    "# return values: data frame with features and labels as last column\n",
    "def readData (file):\n",
    "    data = pd.read_csv (file)\n",
    "    return data.iloc [:, 2:].values"
   ]
  },
  {
   "cell_type": "code",
   "execution_count": 3,
   "metadata": {},
   "outputs": [],
   "source": [
    "# function to normalize data\n",
    "# arguments: data\n",
    "# return values: normalized data\n",
    "def normalize (data):\n",
    "    mins = np.min (data, axis = 0)\n",
    "    maxs = np.max (data, axis = 0)\n",
    "    return (data - mins)/ (maxs- mins)"
   ]
  },
  {
   "cell_type": "code",
   "execution_count": 4,
   "metadata": {},
   "outputs": [],
   "source": [
    "# function split the dataset into train and test sets\n",
    "# arguments: data\n",
    "# return values: trainData, testData\n",
    "def traintestsplit (data, split = 0.8):\n",
    "    trainsize = int (len (data) * split)\n",
    "    print ('Size of train data: ' + str (trainsize))\n",
    "    print ('Size of test data: ' + str (len (data) - trainsize))\n",
    "    np.random.shuffle (data)\n",
    "    return data [:trainsize], data [trainsize:]"
   ]
  },
  {
   "cell_type": "code",
   "execution_count": 5,
   "metadata": {},
   "outputs": [],
   "source": [
    "# calculate euclidean distance for two gievn points\n",
    "# arguments: points (list)\n",
    "# return values: euclidean distance (int)\n",
    "def euclideanDistance (old, new):\n",
    "    distance = 0\n",
    "    for i in range (len (old)):\n",
    "        distance += (old [i] - new [i]) ** 2\n",
    "    return distance"
   ]
  },
  {
   "cell_type": "code",
   "execution_count": 6,
   "metadata": {},
   "outputs": [],
   "source": [
    "# get k-nearest neighbors\n",
    "# arguments: data, x , k\n",
    "# return values: k-nearest neighbors\n",
    "def knn (data, x, k):\n",
    "    data = data.tolist ()\n",
    "    for i in range (len (data)):\n",
    "        compareVal = data [i] [:-1]\n",
    "        distance = euclideanDistance (compareVal, x)\n",
    "        data [i].append (distance)\n",
    "    \n",
    "    sortedByDistance = sorted (data, key = lambda x: (x [-1]))\n",
    "    return sortedByDistance [:k]"
   ]
  },
  {
   "cell_type": "code",
   "execution_count": 7,
   "metadata": {},
   "outputs": [],
   "source": [
    "# get decision for the class\n",
    "# arguments: nearest, number of classes\n",
    "# return values: class label\n",
    "def classDecision (nearest, numClass):\n",
    "    votes = [0] * numClass\n",
    "    for i in range (len (nearest)):\n",
    "        votes [int (nearest [i][-2])] += 1\n",
    "    maxVal = max (votes)\n",
    "    return votes.index (maxVal)"
   ]
  },
  {
   "cell_type": "code",
   "execution_count": 8,
   "metadata": {},
   "outputs": [],
   "source": [
    "# loop through the test set and get prediction for each data point\n",
    "# arguments: training data with labels, testing features, number of neighbors, number of classes\n",
    "# return values: predictions for the features\n",
    "def looper (trainData, testX, k, numClass):\n",
    "    predictions = []\n",
    "    textX = testX.tolist ()\n",
    "    for row in testX:\n",
    "        nearest = knn (trainData, row, k)\n",
    "        predictions.append (classDecision (nearest, numClass))\n",
    "        \n",
    "    return predictions"
   ]
  },
  {
   "cell_type": "code",
   "execution_count": 9,
   "metadata": {},
   "outputs": [],
   "source": [
    "data = readData ('./Data/Social_Network_Ads.csv')"
   ]
  },
  {
   "cell_type": "code",
   "execution_count": 10,
   "metadata": {},
   "outputs": [],
   "source": [
    "datanorm = normalize (data [:, :-1])\n",
    "labels = data [:, -1]\n",
    "labels = np.reshape (labels, (len (labels), 1))"
   ]
  },
  {
   "cell_type": "code",
   "execution_count": 11,
   "metadata": {},
   "outputs": [],
   "source": [
    "data = np.append (datanorm, labels, axis =1)"
   ]
  },
  {
   "cell_type": "code",
   "execution_count": 12,
   "metadata": {},
   "outputs": [
    {
     "name": "stdout",
     "output_type": "stream",
     "text": [
      "Size of train data: 320\n",
      "Size of test data: 80\n"
     ]
    }
   ],
   "source": [
    "trainData, testData = traintestsplit (data)"
   ]
  },
  {
   "cell_type": "code",
   "execution_count": 13,
   "metadata": {},
   "outputs": [],
   "source": [
    "testX, testY = data [:,:-1], data [:,-1]"
   ]
  },
  {
   "cell_type": "code",
   "execution_count": 14,
   "metadata": {},
   "outputs": [
    {
     "data": {
      "text/plain": [
       "5"
      ]
     },
     "execution_count": 14,
     "metadata": {},
     "output_type": "execute_result"
    }
   ],
   "source": [
    "# test for an example\n",
    "nearest = knn (trainData, testX [150], 5)\n",
    "len (nearest)"
   ]
  },
  {
   "cell_type": "code",
   "execution_count": 15,
   "metadata": {},
   "outputs": [
    {
     "data": {
      "text/plain": [
       "[[0.40476190476190477, 0.25925925925925924, 0.0, 0.0],\n",
       " [0.40476190476190477, 0.25925925925925924, 0.0, 0.0],\n",
       " [0.40476190476190477, 0.2814814814814815, 0.0, 0.0004938271604938286],\n",
       " [0.42857142857142855, 0.25925925925925924, 0.0, 0.0005668934240362798],\n",
       " [0.42857142857142855, 0.2740740740740741, 0.0, 0.0007863721620335369]]"
      ]
     },
     "execution_count": 15,
     "metadata": {},
     "output_type": "execute_result"
    }
   ],
   "source": [
    "nearest"
   ]
  },
  {
   "cell_type": "code",
   "execution_count": 16,
   "metadata": {},
   "outputs": [],
   "source": [
    "label = classDecision(nearest, 2)"
   ]
  },
  {
   "cell_type": "code",
   "execution_count": 17,
   "metadata": {},
   "outputs": [
    {
     "data": {
      "text/plain": [
       "0"
      ]
     },
     "execution_count": 17,
     "metadata": {},
     "output_type": "execute_result"
    }
   ],
   "source": [
    "label"
   ]
  },
  {
   "cell_type": "code",
   "execution_count": 18,
   "metadata": {},
   "outputs": [
    {
     "data": {
      "text/plain": [
       "0.0"
      ]
     },
     "execution_count": 18,
     "metadata": {},
     "output_type": "execute_result"
    }
   ],
   "source": [
    "testY [150]"
   ]
  },
  {
   "cell_type": "code",
   "execution_count": 19,
   "metadata": {},
   "outputs": [],
   "source": [
    "predictions = looper (trainData, testX, 5, 2)"
   ]
  },
  {
   "cell_type": "code",
   "execution_count": 20,
   "metadata": {},
   "outputs": [],
   "source": [
    "from sklearn.metrics import confusion_matrix"
   ]
  },
  {
   "cell_type": "code",
   "execution_count": 21,
   "metadata": {},
   "outputs": [],
   "source": [
    "cm = confusion_matrix (testY, predictions)"
   ]
  },
  {
   "cell_type": "code",
   "execution_count": 22,
   "metadata": {},
   "outputs": [
    {
     "data": {
      "text/plain": [
       "array([[240,  17],\n",
       "       [ 17, 126]], dtype=int64)"
      ]
     },
     "execution_count": 22,
     "metadata": {},
     "output_type": "execute_result"
    }
   ],
   "source": [
    "cm"
   ]
  },
  {
   "cell_type": "markdown",
   "metadata": {},
   "source": [
    "#### 2. Weighted K-nearest neighbors (robust)\n",
    "\n",
    "Case 1: Suppose we have three classes [0, 1, 2]. We use k = 5 and get 2 votes for class 0, 2 votes for class 1 and 1 votes for class 2. Which one should be choose ? KNN model fails here\n",
    "\n",
    "Case 2: Suppose we have two classes [0, 1]. We use k = 5 and get 3 votes for class 0 and 2 votes for class 1. But, class 1 points are much closer (lesser distance) to the given data point than class 0 points. KNN fairs here too.\n",
    "\n",
    "Solution: Weighted KNN. We assign weights to each of the points. Instead of adding 1 to the value array, we had a decimal. \n",
    "We add 1/2 for the nearest neighbor's label, 1/3 for the second nearest and so on..."
   ]
  },
  {
   "cell_type": "code",
   "execution_count": 23,
   "metadata": {},
   "outputs": [],
   "source": [
    "# get decision for the class\n",
    "# arguments: nearest, number of classes\n",
    "# return values: class label\n",
    "def weightedClassDecision (nearest, numClass):\n",
    "    votes = [0] * numClass\n",
    "    for i in range (len (nearest)):\n",
    "        votes [int (nearest [i][-2])] += 1/ (i + 2)\n",
    "    maxVal = max (votes)\n",
    "    return votes.index (maxVal)"
   ]
  },
  {
   "cell_type": "code",
   "execution_count": 24,
   "metadata": {},
   "outputs": [],
   "source": [
    "# loop through the test set and get prediction for each data point\n",
    "# arguments: training data with labels, testing features, number of neighbors, number of classes\n",
    "# return values: predictions for the features\n",
    "def weightedLooper (trainData, testX, k, numClass):\n",
    "    predictions = []\n",
    "    textX = testX.tolist ()\n",
    "    for row in testX:\n",
    "        nearest = knn (trainData, row, k)\n",
    "        predictions.append (weightedClassDecision (nearest, numClass))\n",
    "        \n",
    "    return predictions"
   ]
  },
  {
   "cell_type": "code",
   "execution_count": 25,
   "metadata": {},
   "outputs": [],
   "source": [
    "weightedPredictions = weightedLooper (trainData, testX, 5, 2)"
   ]
  },
  {
   "cell_type": "code",
   "execution_count": 26,
   "metadata": {},
   "outputs": [],
   "source": [
    "cm = confusion_matrix (testY, weightedPredictions)"
   ]
  },
  {
   "cell_type": "code",
   "execution_count": 27,
   "metadata": {},
   "outputs": [
    {
     "data": {
      "text/plain": [
       "array([[238,  19],\n",
       "       [ 11, 132]], dtype=int64)"
      ]
     },
     "execution_count": 27,
     "metadata": {},
     "output_type": "execute_result"
    }
   ],
   "source": [
    "cm"
   ]
  }
 ],
 "metadata": {
  "kernelspec": {
   "display_name": "Python 3",
   "language": "python",
   "name": "python3"
  },
  "language_info": {
   "codemirror_mode": {
    "name": "ipython",
    "version": 3
   },
   "file_extension": ".py",
   "mimetype": "text/x-python",
   "name": "python",
   "nbconvert_exporter": "python",
   "pygments_lexer": "ipython3",
   "version": "3.6.5"
  }
 },
 "nbformat": 4,
 "nbformat_minor": 2
}
