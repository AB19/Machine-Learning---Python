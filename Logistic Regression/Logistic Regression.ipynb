{
 "cells": [
  {
   "cell_type": "markdown",
   "metadata": {},
   "source": [
    "### Logistic Regression - 2 Classes\n",
    "\n",
    "#### 1. Numpy"
   ]
  },
  {
   "cell_type": "code",
   "execution_count": 1,
   "metadata": {},
   "outputs": [],
   "source": [
    "import numpy as np\n",
    "import pandas as pd\n",
    "import matplotlib.pyplot as plt"
   ]
  },
  {
   "cell_type": "code",
   "execution_count": 2,
   "metadata": {},
   "outputs": [],
   "source": [
    "# function to read data and get features and labels\n",
    "# arguments: filename\n",
    "# return values: features and labels numpy arrays\n",
    "def readData (file):\n",
    "    data = pd.read_csv (file)\n",
    "    features = data.iloc [:, 2: -1].values\n",
    "    labels = data.iloc [:, -1].values\n",
    "    return features, labels"
   ]
  },
  {
   "cell_type": "code",
   "execution_count": 3,
   "metadata": {},
   "outputs": [],
   "source": [
    "# function to normalize data\n",
    "# arguments: data\n",
    "# return values: normalized data\n",
    "def normalize (data):\n",
    "    mins = np.min (data, axis = 0)\n",
    "    maxs = np.max (data, axis = 0)\n",
    "    return (data - mins)/ (maxs- mins)"
   ]
  },
  {
   "cell_type": "code",
   "execution_count": 4,
   "metadata": {},
   "outputs": [],
   "source": [
    "# function to add a column at the end - bias\n",
    "# arguments: data\n",
    "# return values: data with an extra column of ones for bias\n",
    "def addColumn (data):\n",
    "    print (data.shape [0])\n",
    "    return np.append (data, np.ones ((data.shape [0], 1)), axis = 1)"
   ]
  },
  {
   "cell_type": "code",
   "execution_count": 5,
   "metadata": {},
   "outputs": [],
   "source": [
    "# forward pass\n",
    "# arguments: features, weights matrix - last term is bias\n",
    "# return values: X * weights\n",
    "def forwardPass (weights, X):\n",
    "    return sigmoid (np.dot (X, weights))"
   ]
  },
  {
   "cell_type": "code",
   "execution_count": 6,
   "metadata": {},
   "outputs": [],
   "source": [
    "# sigmoid of a value\n",
    "# arguments: matrix\n",
    "# return values: sigmoid of the matrix\n",
    "def sigmoid (X):\n",
    "    return (1/ (1 + np.exp (-X)))"
   ]
  },
  {
   "cell_type": "code",
   "execution_count": 7,
   "metadata": {},
   "outputs": [],
   "source": [
    "# cost function - log loss\n",
    "# arguments: predicted values of y, actual y\n",
    "# return values: cost\n",
    "def costCalculator (yhat, Y):\n",
    "    return (1/ len (Y)) * (np.dot (-Y, np.log (yhat)) - np.dot ((1 - Y), np.log (1 - yhat)))"
   ]
  },
  {
   "cell_type": "code",
   "execution_count": 8,
   "metadata": {},
   "outputs": [],
   "source": [
    "def gradientDescent (X, Y, learningRate = 0.03, iterations = 50000):\n",
    "    weights = np.zeros (X.shape [1])\n",
    "    costs = []\n",
    "    for _ in range (iterations):\n",
    "        yhat = forwardPass (weights, X)\n",
    "        costs.append (costCalculator (yhat, Y))\n",
    "        weights = weights - ((learningRate/ (len (Y))) * (np.dot (X.T, yhat - Y)))\n",
    "    return weights, costs"
   ]
  },
  {
   "cell_type": "code",
   "execution_count": 9,
   "metadata": {},
   "outputs": [],
   "source": [
    "X, Y = readData ('./Data/Social_Network_Ads.csv')"
   ]
  },
  {
   "cell_type": "code",
   "execution_count": 10,
   "metadata": {},
   "outputs": [
    {
     "name": "stdout",
     "output_type": "stream",
     "text": [
      "400\n"
     ]
    }
   ],
   "source": [
    "Xnorm = normalize (X)\n",
    "Xnorm = addColumn (Xnorm)"
   ]
  },
  {
   "cell_type": "code",
   "execution_count": 11,
   "metadata": {},
   "outputs": [],
   "source": [
    "weights, costs = gradientDescent (Xnorm, Y)"
   ]
  },
  {
   "cell_type": "code",
   "execution_count": 12,
   "metadata": {},
   "outputs": [
    {
     "data": {
      "text/plain": [
       "Text(0,0.5,'Cost')"
      ]
     },
     "execution_count": 12,
     "metadata": {},
     "output_type": "execute_result"
    },
    {
     "data": {
      "image/png": "[encoded data removed]",
      "text/plain": [
       "<Figure size 432x288 with 1 Axes>"
      ]
     },
     "metadata": {},
     "output_type": "display_data"
    }
   ],
   "source": [
    "# plot the cost vs iteration# plot  \n",
    "plt.plot (range (50000), costs)\n",
    "plt.xlabel ('Iterations')\n",
    "plt.ylabel ('Cost')"
   ]
  },
  {
   "cell_type": "code",
   "execution_count": 13,
   "metadata": {},
   "outputs": [
    {
     "name": "stdout",
     "output_type": "stream",
     "text": [
      "Weights: [ 9.21147687  4.54268349 -7.24213143]\n"
     ]
    }
   ],
   "source": [
    "# last value is the bias\n",
    "print  (\"Weights: \"  + str (weights))"
   ]
  },
  {
   "cell_type": "code",
   "execution_count": 14,
   "metadata": {},
   "outputs": [],
   "source": [
    "# predict classes on the training set\n",
    "predictedValues = forwardPass (weights, Xnorm)\n",
    "predictedClasses = [0 if x <= 0.5 else 1 for x in predictedValues]"
   ]
  },
  {
   "cell_type": "code",
   "execution_count": 15,
   "metadata": {},
   "outputs": [],
   "source": [
    "from sklearn.metrics import confusion_matrix"
   ]
  },
  {
   "cell_type": "code",
   "execution_count": 16,
   "metadata": {},
   "outputs": [],
   "source": [
    "cm = confusion_matrix (predictedClasses, Y)"
   ]
  },
  {
   "cell_type": "code",
   "execution_count": 17,
   "metadata": {},
   "outputs": [
    {
     "data": {
      "text/plain": [
       "array([[237,  43],\n",
       "       [ 20, 100]], dtype=int64)"
      ]
     },
     "execution_count": 17,
     "metadata": {},
     "output_type": "execute_result"
    }
   ],
   "source": [
    "cm"
   ]
  },
  {
   "cell_type": "markdown",
   "metadata": {},
   "source": [
    "#### 2. Scikit-learn - verify our model"
   ]
  },
  {
   "cell_type": "code",
   "execution_count": 18,
   "metadata": {},
   "outputs": [],
   "source": [
    "from sklearn.linear_model import LogisticRegression"
   ]
  },
  {
   "cell_type": "code",
   "execution_count": 19,
   "metadata": {},
   "outputs": [],
   "source": [
    "clf = LogisticRegression ()"
   ]
  },
  {
   "cell_type": "code",
   "execution_count": 20,
   "metadata": {},
   "outputs": [
    {
     "data": {
      "text/plain": [
       "LogisticRegression(C=1.0, class_weight=None, dual=False, fit_intercept=True,\n",
       "          intercept_scaling=1, max_iter=100, multi_class='ovr', n_jobs=1,\n",
       "          penalty='l2', random_state=None, solver='liblinear', tol=0.0001,\n",
       "          verbose=0, warm_start=False)"
      ]
     },
     "execution_count": 20,
     "metadata": {},
     "output_type": "execute_result"
    }
   ],
   "source": [
    "clf.fit (Xnorm, Y)"
   ]
  },
  {
   "cell_type": "code",
   "execution_count": 21,
   "metadata": {},
   "outputs": [],
   "source": [
    "predictions = clf.predict (Xnorm)"
   ]
  },
  {
   "cell_type": "code",
   "execution_count": 22,
   "metadata": {},
   "outputs": [],
   "source": [
    "cm = confusion_matrix (predictions, Y)"
   ]
  },
  {
   "cell_type": "code",
   "execution_count": 23,
   "metadata": {},
   "outputs": [
    {
     "data": {
      "text/plain": [
       "array([[242,  52],\n",
       "       [ 15,  91]], dtype=int64)"
      ]
     },
     "execution_count": 23,
     "metadata": {},
     "output_type": "execute_result"
    }
   ],
   "source": [
    "cm"
   ]
  }
 ],
 "metadata": {
  "kernelspec": {
   "display_name": "Python 3",
   "language": "python",
   "name": "python3"
  },
  "language_info": {
   "codemirror_mode": {
    "name": "ipython",
    "version": 3
   },
   "file_extension": ".py",
   "mimetype": "text/x-python",
   "name": "python",
   "nbconvert_exporter": "python",
   "pygments_lexer": "ipython3",
   "version": "3.6.5"
  }
 },
 "nbformat": 4,
 "nbformat_minor": 2
}
