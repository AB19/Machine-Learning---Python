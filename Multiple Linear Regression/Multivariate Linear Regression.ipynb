{
 "cells": [
  {
   "cell_type": "markdown",
   "metadata": {},
   "source": [
    "### Multiple (Multivariate) Linear Regression - More than one feature\n",
    "\n",
    "#### 1. Numpy"
   ]
  },
  {
   "cell_type": "code",
   "execution_count": 1,
   "metadata": {},
   "outputs": [],
   "source": [
    "import numpy as np\n",
    "import pandas as pd\n",
    "import matplotlib.pyplot as plt"
   ]
  },
  {
   "cell_type": "code",
   "execution_count": 2,
   "metadata": {},
   "outputs": [],
   "source": [
    "# function to read data and get features and labels\n",
    "# arguments: filename\n",
    "# return values: features and labels numpy arrays\n",
    "def readData (file):\n",
    "    data = pd.read_csv (file)\n",
    "    features = data.iloc [:, : -2].values\n",
    "    labels = data.iloc [:, -1].values\n",
    "    return features, labels"
   ]
  },
  {
   "cell_type": "code",
   "execution_count": 3,
   "metadata": {},
   "outputs": [],
   "source": [
    "# function to normalize data\n",
    "# arguments: data\n",
    "# return values: normalized data\n",
    "def normalize (data):\n",
    "    mins = np.min (data, axis = 0)\n",
    "    maxs = np.max (data, axis = 0)\n",
    "    return (data - mins)/ (maxs- mins)"
   ]
  },
  {
   "cell_type": "code",
   "execution_count": 4,
   "metadata": {},
   "outputs": [],
   "source": [
    "# function to add a column at the end - bias\n",
    "# arguments: data\n",
    "# return values: data with an extra column of ones for bias\n",
    "def addColumn (data):\n",
    "    print (data.shape [0])\n",
    "    return np.append (data, np.ones ((data.shape [0], 1)), axis = 1)"
   ]
  },
  {
   "cell_type": "code",
   "execution_count": 5,
   "metadata": {},
   "outputs": [],
   "source": [
    "# forward pass\n",
    "# arguments: features, weights matrix - last term is bias\n",
    "# return values: X * weights\n",
    "def forwardPass (X, weights):\n",
    "    return np.dot (X, weights)"
   ]
  },
  {
   "cell_type": "code",
   "execution_count": 6,
   "metadata": {},
   "outputs": [],
   "source": [
    "# cost function - mean squared error\n",
    "# arguments: predicted values of y, actual y\n",
    "# return values: cost\n",
    "def costCalculator (yhat, Y):\n",
    "    return (1/ (2 * len (yhat))) * np.sum ((yhat - Y) ** 2)"
   ]
  },
  {
   "cell_type": "code",
   "execution_count": 7,
   "metadata": {},
   "outputs": [],
   "source": [
    "# gradient descent algorithm\n",
    "# arguments: X, Y, learning rate and iterations\n",
    "# return value: weight and costs\n",
    "def gradientDescent (X, Y, learningRate = 0.1, iterations = 10000):\n",
    "    weights = np.zeros ([X.shape [1]])\n",
    "    costs = []\n",
    "    for _ in range (iterations):\n",
    "        yhat = forwardPass (X, weights)\n",
    "        cost = costCalculator (yhat, Y)\n",
    "        costs.append (cost)\n",
    "        weights = weights - ((learningRate/ len (X)) * np.dot ((yhat - Y), X))\n",
    "    return weights, costs"
   ]
  },
  {
   "cell_type": "code",
   "execution_count": 8,
   "metadata": {},
   "outputs": [],
   "source": [
    "X, Y = readData ('./Data/50_Startups.csv')"
   ]
  },
  {
   "cell_type": "code",
   "execution_count": 9,
   "metadata": {},
   "outputs": [
    {
     "name": "stdout",
     "output_type": "stream",
     "text": [
      "50\n"
     ]
    }
   ],
   "source": [
    "Xnorm = normalize (X)\n",
    "Xnorm = addColumn (Xnorm)"
   ]
  },
  {
   "cell_type": "code",
   "execution_count": 10,
   "metadata": {},
   "outputs": [],
   "source": [
    "weights, costs = gradientDescent (Xnorm, Y)"
   ]
  },
  {
   "cell_type": "code",
   "execution_count": 11,
   "metadata": {},
   "outputs": [
    {
     "data": {
      "text/plain": [
       "Text(0,0.5,'Cost')"
      ]
     },
     "execution_count": 11,
     "metadata": {},
     "output_type": "execute_result"
    },
    {
     "data": {
      "image/png": "[encoded data removed]",
      "text/plain": [
       "<Figure size 432x288 with 1 Axes>"
      ]
     },
     "metadata": {},
     "output_type": "display_data"
    }
   ],
   "source": [
    "# plot the cost vs iteration# plot  \n",
    "plt.plot (range (10000), costs)\n",
    "plt.xlabel ('Iterations')\n",
    "plt.ylabel ('Cost')"
   ]
  },
  {
   "cell_type": "code",
   "execution_count": 12,
   "metadata": {},
   "outputs": [
    {
     "name": "stdout",
     "output_type": "stream",
     "text": [
      "Weights: [133224.31652669  -3522.59642569  12845.79194567  48746.97759784]\n"
     ]
    }
   ],
   "source": [
    "# last value is the bias\n",
    "print  (\"Weights: \"  + str (weights))"
   ]
  },
  {
   "cell_type": "code",
   "execution_count": 13,
   "metadata": {},
   "outputs": [
    {
     "name": "stdout",
     "output_type": "stream",
     "text": [
      "Cost: 39208563.00957523\n"
     ]
    }
   ],
   "source": [
    "# calculate the cost on trained data\n",
    "numpyModelCost = costCalculator (forwardPass (Xnorm, weights), Y)\n",
    "print (\"Cost: \" + str (numpyModelCost))"
   ]
  },
  {
   "cell_type": "markdown",
   "metadata": {},
   "source": [
    "#### 2. Scikit learn - to verify our model"
   ]
  },
  {
   "cell_type": "code",
   "execution_count": 14,
   "metadata": {},
   "outputs": [],
   "source": [
    "from sklearn.linear_model import LinearRegression\n",
    "lr = LinearRegression ()"
   ]
  },
  {
   "cell_type": "code",
   "execution_count": 15,
   "metadata": {},
   "outputs": [
    {
     "data": {
      "text/plain": [
       "LinearRegression(copy_X=True, fit_intercept=True, n_jobs=1, normalize=False)"
      ]
     },
     "execution_count": 15,
     "metadata": {},
     "output_type": "execute_result"
    }
   ],
   "source": [
    "lr.fit (Xnorm, Y)"
   ]
  },
  {
   "cell_type": "code",
   "execution_count": 16,
   "metadata": {},
   "outputs": [
    {
     "name": "stdout",
     "output_type": "stream",
     "text": [
      "Weights: [133224.33893153  -3522.61050298  12845.7680468       0.        ]\n",
      "Bias: 48746.985928441674\n"
     ]
    }
   ],
   "source": [
    "print (\"Weights: \"  + str (lr.coef_))\n",
    "print (\"Bias: \" + str (lr.intercept_))"
   ]
  },
  {
   "cell_type": "code",
   "execution_count": 17,
   "metadata": {},
   "outputs": [
    {
     "name": "stdout",
     "output_type": "stream",
     "text": [
      "Cost: 39208563.00956541\n"
     ]
    }
   ],
   "source": [
    "# calculate the cost on trained data\n",
    "scikitModelCost = costCalculator (lr.predict (Xnorm), Y)\n",
    "print (\"Cost: \" + str (scikitModelCost))"
   ]
  },
  {
   "cell_type": "markdown",
   "metadata": {},
   "source": [
    "#### 3. Setting up a grid search in numpy\n",
    "\n",
    "Identify the parameters that can be tuned - iterations and learning rate. These are called hyper-parameters"
   ]
  },
  {
   "cell_type": "code",
   "execution_count": 18,
   "metadata": {},
   "outputs": [],
   "source": [
    "iterations = [100, 1000, 10000]\n",
    "learningRates = [0.001, 0.003, 0.01, 0.03, 0.1, 0.3, 1]\n",
    "gridSearch = []\n",
    "for i in range (len (learningRates)):\n",
    "    for j in range (len (iterations)):\n",
    "        eachSearch = []\n",
    "        weights, costs = gradientDescent (Xnorm, Y, learningRate = learningRates [i], iterations = iterations [j])\n",
    "        eachSearch.append (learningRates [i])\n",
    "        eachSearch.append (iterations [j])\n",
    "        eachSearch.append (costs [-1])\n",
    "        gridSearch.append (eachSearch)"
   ]
  },
  {
   "cell_type": "code",
   "execution_count": 19,
   "metadata": {},
   "outputs": [],
   "source": [
    "gridData = pd.DataFrame (gridSearch, columns = ['Learning Rate', 'Iterations', 'Error/ Cost'])"
   ]
  },
  {
   "cell_type": "code",
   "execution_count": 20,
   "metadata": {},
   "outputs": [
    {
     "data": {
      "text/html": [
       "<div>\n",
       "<style scoped>\n",
       "    .dataframe tbody tr th:only-of-type {\n",
       "        vertical-align: middle;\n",
       "    }\n",
       "\n",
       "    .dataframe tbody tr th {\n",
       "        vertical-align: top;\n",
       "    }\n",
       "\n",
       "    .dataframe thead th {\n",
       "        text-align: right;\n",
       "    }\n",
       "</style>\n",
       "<table border=\"1\" class=\"dataframe\">\n",
       "  <thead>\n",
       "    <tr style=\"text-align: right;\">\n",
       "      <th></th>\n",
       "      <th>Learning Rate</th>\n",
       "      <th>Iterations</th>\n",
       "      <th>Error/ Cost</th>\n",
       "    </tr>\n",
       "  </thead>\n",
       "  <tbody>\n",
       "    <tr>\n",
       "      <th>0</th>\n",
       "      <td>0.001</td>\n",
       "      <td>100</td>\n",
       "      <td>5.110855e+09</td>\n",
       "    </tr>\n",
       "    <tr>\n",
       "      <th>1</th>\n",
       "      <td>0.001</td>\n",
       "      <td>1000</td>\n",
       "      <td>4.949452e+08</td>\n",
       "    </tr>\n",
       "    <tr>\n",
       "      <th>2</th>\n",
       "      <td>0.001</td>\n",
       "      <td>10000</td>\n",
       "      <td>1.178294e+08</td>\n",
       "    </tr>\n",
       "    <tr>\n",
       "      <th>3</th>\n",
       "      <td>0.003</td>\n",
       "      <td>100</td>\n",
       "      <td>2.723381e+09</td>\n",
       "    </tr>\n",
       "    <tr>\n",
       "      <th>4</th>\n",
       "      <td>0.003</td>\n",
       "      <td>1000</td>\n",
       "      <td>2.211499e+08</td>\n",
       "    </tr>\n",
       "    <tr>\n",
       "      <th>5</th>\n",
       "      <td>0.003</td>\n",
       "      <td>10000</td>\n",
       "      <td>6.295284e+07</td>\n",
       "    </tr>\n",
       "    <tr>\n",
       "      <th>6</th>\n",
       "      <td>0.010</td>\n",
       "      <td>100</td>\n",
       "      <td>4.961569e+08</td>\n",
       "    </tr>\n",
       "    <tr>\n",
       "      <th>7</th>\n",
       "      <td>0.010</td>\n",
       "      <td>1000</td>\n",
       "      <td>1.178729e+08</td>\n",
       "    </tr>\n",
       "    <tr>\n",
       "      <th>8</th>\n",
       "      <td>0.010</td>\n",
       "      <td>10000</td>\n",
       "      <td>4.207403e+07</td>\n",
       "    </tr>\n",
       "    <tr>\n",
       "      <th>9</th>\n",
       "      <td>0.030</td>\n",
       "      <td>100</td>\n",
       "      <td>2.217098e+08</td>\n",
       "    </tr>\n",
       "    <tr>\n",
       "      <th>10</th>\n",
       "      <td>0.030</td>\n",
       "      <td>1000</td>\n",
       "      <td>6.296534e+07</td>\n",
       "    </tr>\n",
       "    <tr>\n",
       "      <th>11</th>\n",
       "      <td>0.030</td>\n",
       "      <td>10000</td>\n",
       "      <td>3.921671e+07</td>\n",
       "    </tr>\n",
       "    <tr>\n",
       "      <th>12</th>\n",
       "      <td>0.100</td>\n",
       "      <td>100</td>\n",
       "      <td>1.183104e+08</td>\n",
       "    </tr>\n",
       "    <tr>\n",
       "      <th>13</th>\n",
       "      <td>0.100</td>\n",
       "      <td>1000</td>\n",
       "      <td>4.207603e+07</td>\n",
       "    </tr>\n",
       "    <tr>\n",
       "      <th>14</th>\n",
       "      <td>0.100</td>\n",
       "      <td>10000</td>\n",
       "      <td>3.920856e+07</td>\n",
       "    </tr>\n",
       "    <tr>\n",
       "      <th>15</th>\n",
       "      <td>0.300</td>\n",
       "      <td>100</td>\n",
       "      <td>6.309071e+07</td>\n",
       "    </tr>\n",
       "    <tr>\n",
       "      <th>16</th>\n",
       "      <td>0.300</td>\n",
       "      <td>1000</td>\n",
       "      <td>3.921663e+07</td>\n",
       "    </tr>\n",
       "    <tr>\n",
       "      <th>17</th>\n",
       "      <td>0.300</td>\n",
       "      <td>10000</td>\n",
       "      <td>3.920856e+07</td>\n",
       "    </tr>\n",
       "    <tr>\n",
       "      <th>18</th>\n",
       "      <td>1.000</td>\n",
       "      <td>100</td>\n",
       "      <td>4.209618e+07</td>\n",
       "    </tr>\n",
       "    <tr>\n",
       "      <th>19</th>\n",
       "      <td>1.000</td>\n",
       "      <td>1000</td>\n",
       "      <td>3.920856e+07</td>\n",
       "    </tr>\n",
       "    <tr>\n",
       "      <th>20</th>\n",
       "      <td>1.000</td>\n",
       "      <td>10000</td>\n",
       "      <td>3.920856e+07</td>\n",
       "    </tr>\n",
       "  </tbody>\n",
       "</table>\n",
       "</div>"
      ],
      "text/plain": [
       "    Learning Rate  Iterations   Error/ Cost\n",
       "0           0.001         100  5.110855e+09\n",
       "1           0.001        1000  4.949452e+08\n",
       "2           0.001       10000  1.178294e+08\n",
       "3           0.003         100  2.723381e+09\n",
       "4           0.003        1000  2.211499e+08\n",
       "5           0.003       10000  6.295284e+07\n",
       "6           0.010         100  4.961569e+08\n",
       "7           0.010        1000  1.178729e+08\n",
       "8           0.010       10000  4.207403e+07\n",
       "9           0.030         100  2.217098e+08\n",
       "10          0.030        1000  6.296534e+07\n",
       "11          0.030       10000  3.921671e+07\n",
       "12          0.100         100  1.183104e+08\n",
       "13          0.100        1000  4.207603e+07\n",
       "14          0.100       10000  3.920856e+07\n",
       "15          0.300         100  6.309071e+07\n",
       "16          0.300        1000  3.921663e+07\n",
       "17          0.300       10000  3.920856e+07\n",
       "18          1.000         100  4.209618e+07\n",
       "19          1.000        1000  3.920856e+07\n",
       "20          1.000       10000  3.920856e+07"
      ]
     },
     "execution_count": 20,
     "metadata": {},
     "output_type": "execute_result"
    }
   ],
   "source": [
    "gridData"
   ]
  }
 ],
 "metadata": {
  "kernelspec": {
   "display_name": "Python 3",
   "language": "python",
   "name": "python3"
  },
  "language_info": {
   "codemirror_mode": {
    "name": "ipython",
    "version": 3
   },
   "file_extension": ".py",
   "mimetype": "text/x-python",
   "name": "python",
   "nbconvert_exporter": "python",
   "pygments_lexer": "ipython3",
   "version": "3.6.5"
  }
 },
 "nbformat": 4,
 "nbformat_minor": 2
}
