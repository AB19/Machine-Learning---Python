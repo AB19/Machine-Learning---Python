{
 "cells": [
  {
   "cell_type": "markdown",
   "metadata": {},
   "source": [
    "### Polynomial Regresssion\n",
    "\n",
    "Procedure is same as multiple linear regression. Extra columns (polynomial features) added to feature matrix.\n",
    "\n",
    "Example: If we have one feature and specify degree as 2. \n",
    "Feature matrix = [1, X, X^2]\n",
    "\n",
    "Example: If we have two features and specify degree as 2.\n",
    "Feature matrix = [1, X1, X2, X1X2, X1^2, X2^2]\n",
    "\n",
    "#### 1. Numpy"
   ]
  },
  {
   "cell_type": "code",
   "execution_count": 1,
   "metadata": {},
   "outputs": [],
   "source": [
    "import numpy as np\n",
    "import pandas as pd\n",
    "import matplotlib.pyplot as plt\n",
    "%matplotlib inline"
   ]
  },
  {
   "cell_type": "code",
   "execution_count": 2,
   "metadata": {},
   "outputs": [],
   "source": [
    "# function to read data and return feature and label matrices\n",
    "# arguments: file name\n",
    "# return values: features matrix and labels matrix\n",
    "def readData (file):\n",
    "    data = pd.read_csv (file).values\n",
    "    np.random.shuffle (data)\n",
    "    features, labels = data [:, :-1], data [:, -1]\n",
    "    return features, labels"
   ]
  },
  {
   "cell_type": "code",
   "execution_count": 3,
   "metadata": {},
   "outputs": [],
   "source": [
    "# function to normalize data\n",
    "# arguments: data\n",
    "# return values: normalized data\n",
    "def normalize (data):\n",
    "    mins = np.min (data, axis = 0)\n",
    "    maxs = np.max (data, axis = 0)\n",
    "    return (data - mins)/ (maxs- mins)"
   ]
  },
  {
   "cell_type": "code",
   "execution_count": 4,
   "metadata": {},
   "outputs": [],
   "source": [
    "# function to generate polynomial features\n",
    "# arguments: features, degree\n",
    "# return values: polynomial features\n",
    "def generatePolynomials (features, degree = 6):\n",
    "    for i in range (2, degree + 1):\n",
    "        features = np.append (features, features [:, 0].reshape (len (features [:, 0]), 1) ** i, axis = 1)\n",
    "    features = normalize (features)\n",
    "    features = np.append (features, np.ones ((features.shape [0], 1)), axis = 1)\n",
    "    return features         "
   ]
  },
  {
   "cell_type": "code",
   "execution_count": 5,
   "metadata": {},
   "outputs": [],
   "source": [
    "# function to divide the data into train and test sets\n",
    "# arguments: features and label matrices\n",
    "# return: features for training, testing and labels for training, testing\n",
    "def dataSplit (features, polynomialFeatures, labels, split = 0.8):\n",
    "    trainsize = int (features.shape [0] * 0.8)\n",
    "    return features [:trainsize, :], features [trainsize:, :], polynomialFeatures [:trainsize, :], polynomialFeatures [trainsize:, :], labels [:trainsize], labels [trainsize:]"
   ]
  },
  {
   "cell_type": "code",
   "execution_count": 6,
   "metadata": {},
   "outputs": [],
   "source": [
    "# forward pass\n",
    "# arguments: features, weights matrix - last term is bias\n",
    "# return values: X * weights\n",
    "def forwardPass (X, weights):\n",
    "    return np.dot (X, weights)"
   ]
  },
  {
   "cell_type": "code",
   "execution_count": 7,
   "metadata": {},
   "outputs": [],
   "source": [
    "# cost function - mean squared error\n",
    "# arguments: predicted values of y, actual y\n",
    "# return values: cost\n",
    "def costCalculator (yhat, Y):\n",
    "    return (1/ (2 * len (yhat))) * np.sum ((yhat - Y) ** 2)"
   ]
  },
  {
   "cell_type": "code",
   "execution_count": 8,
   "metadata": {},
   "outputs": [],
   "source": [
    "# gradient descent algorithm\n",
    "# arguments: X, Y, learning rate and iterations\n",
    "# return value: weight and costs\n",
    "def gradientDescent (X, Y, learningRate = 0.1, iterations = 10000):\n",
    "    weights = np.zeros ([X.shape [1]])\n",
    "    costs = []\n",
    "    for _ in range (iterations):\n",
    "        yhat = forwardPass (X, weights)\n",
    "        cost = costCalculator (yhat, Y)\n",
    "        costs.append (cost)\n",
    "        weights = weights - ((learningRate/ len (X)) * np.dot ((yhat - Y), X))\n",
    "    return weights, costs"
   ]
  },
  {
   "cell_type": "code",
   "execution_count": 9,
   "metadata": {},
   "outputs": [],
   "source": [
    "features, labels = readData ('./Data/Salary_Data.csv')"
   ]
  },
  {
   "cell_type": "code",
   "execution_count": 10,
   "metadata": {},
   "outputs": [],
   "source": [
    "polynomialFeatures = generatePolynomials (features)"
   ]
  },
  {
   "cell_type": "code",
   "execution_count": 11,
   "metadata": {},
   "outputs": [],
   "source": [
    "rawTrainX, rawTestX, trainX, testX, trainY, testY = dataSplit (features, polynomialFeatures, labels)"
   ]
  },
  {
   "cell_type": "code",
   "execution_count": 12,
   "metadata": {},
   "outputs": [
    {
     "data": {
      "text/plain": [
       "<matplotlib.collections.PathCollection at 0x245add60fd0>"
      ]
     },
     "execution_count": 12,
     "metadata": {},
     "output_type": "execute_result"
    },
    {
     "data": {
      "image/png": "[encoded data removed]",
      "text/plain": [
       "<Figure size 432x288 with 1 Axes>"
      ]
     },
     "metadata": {},
     "output_type": "display_data"
    }
   ],
   "source": [
    "plt.scatter (rawTrainX, trainY)"
   ]
  },
  {
   "cell_type": "code",
   "execution_count": 13,
   "metadata": {},
   "outputs": [
    {
     "data": {
      "text/plain": [
       "<matplotlib.collections.PathCollection at 0x245addf1e80>"
      ]
     },
     "execution_count": 13,
     "metadata": {},
     "output_type": "execute_result"
    },
    {
     "data": {
      "image/png": "[encoded data removed]",
      "text/plain": [
       "<Figure size 432x288 with 1 Axes>"
      ]
     },
     "metadata": {},
     "output_type": "display_data"
    }
   ],
   "source": [
    "plt.scatter (rawTestX, testY)"
   ]
  },
  {
   "cell_type": "code",
   "execution_count": 14,
   "metadata": {},
   "outputs": [],
   "source": [
    "weights, costs = gradientDescent (trainX, trainY)"
   ]
  },
  {
   "cell_type": "code",
   "execution_count": 15,
   "metadata": {},
   "outputs": [
    {
     "data": {
      "text/plain": [
       "Text(0,0.5,'Cost')"
      ]
     },
     "execution_count": 15,
     "metadata": {},
     "output_type": "execute_result"
    },
    {
     "data": {
      "image/png": "[encoded data removed]",
      "text/plain": [
       "<Figure size 432x288 with 1 Axes>"
      ]
     },
     "metadata": {},
     "output_type": "display_data"
    }
   ],
   "source": [
    "# plot the cost vs iteration# plot  \n",
    "plt.plot (range (10000), costs)\n",
    "plt.xlabel ('Iterations')\n",
    "plt.ylabel ('Cost')"
   ]
  },
  {
   "cell_type": "code",
   "execution_count": 16,
   "metadata": {},
   "outputs": [],
   "source": [
    "trainY = trainY.reshape (len (trainY), 1)\n",
    "testY = testY.reshape (len (testY), 1)"
   ]
  },
  {
   "cell_type": "code",
   "execution_count": 17,
   "metadata": {},
   "outputs": [
    {
     "data": {
      "text/plain": [
       "[<matplotlib.lines.Line2D at 0x245ae0d4cf8>]"
      ]
     },
     "execution_count": 17,
     "metadata": {},
     "output_type": "execute_result"
    },
    {
     "data": {
      "image/png": "[encoded data removed]",
      "text/plain": [
       "<Figure size 432x288 with 1 Axes>"
      ]
     },
     "metadata": {},
     "output_type": "display_data"
    }
   ],
   "source": [
    "plt.scatter (rawTrainX, trainY)\n",
    "plt.plot (rawTrainX, forwardPass (trainX, weights))"
   ]
  },
  {
   "cell_type": "code",
   "execution_count": 18,
   "metadata": {},
   "outputs": [
    {
     "data": {
      "text/plain": [
       "[<matplotlib.lines.Line2D at 0x245ade29668>]"
      ]
     },
     "execution_count": 18,
     "metadata": {},
     "output_type": "execute_result"
    },
    {
     "data": {
      "image/png": "[encoded data removed]",
      "text/plain": [
       "<Figure size 432x288 with 1 Axes>"
      ]
     },
     "metadata": {},
     "output_type": "display_data"
    }
   ],
   "source": [
    "plt.scatter (rawTestX, testY)\n",
    "plt.plot (rawTestX, forwardPass (testX, weights))"
   ]
  },
  {
   "cell_type": "code",
   "execution_count": 19,
   "metadata": {},
   "outputs": [
    {
     "data": {
      "text/plain": [
       "array([ 47801.37359995,  68129.48434095,  82405.30480972, 117538.3969073 ,\n",
       "        64282.7531119 ,  95115.01428847])"
      ]
     },
     "execution_count": 19,
     "metadata": {},
     "output_type": "execute_result"
    }
   ],
   "source": [
    "forwardPass (testX, weights)"
   ]
  },
  {
   "cell_type": "code",
   "execution_count": 21,
   "metadata": {},
   "outputs": [
    {
     "data": {
      "text/plain": [
       "array([[2.2],\n",
       "       [4.5],\n",
       "       [5.9],\n",
       "       [9.6],\n",
       "       [4.1],\n",
       "       [7.1]])"
      ]
     },
     "execution_count": 21,
     "metadata": {},
     "output_type": "execute_result"
    }
   ],
   "source": [
    "rawTestX"
   ]
  },
  {
   "cell_type": "code",
   "execution_count": 23,
   "metadata": {},
   "outputs": [
    {
     "data": {
      "text/plain": [
       "array([[1.17021277e-01, 3.32905356e-02, 8.05763932e-03, 1.80699570e-03,\n",
       "        3.91186721e-04, 8.32839740e-05, 1.00000000e+00],\n",
       "       [3.61702128e-01, 1.74614820e-01, 7.76567205e-02, 3.36195410e-02,\n",
       "        1.44458250e-02, 6.19508398e-03, 1.00000000e+00],\n",
       "       [5.10638298e-01, 3.08143800e-01, 1.76467231e-01, 9.95813717e-02,\n",
       "        5.60042775e-02, 3.14744833e-02, 1.00000000e+00],\n",
       "       [9.04255319e-01, 8.34097579e-01, 7.63996873e-01, 6.98723228e-01,\n",
       "        6.38861287e-01, 5.84105365e-01, 1.00000000e+00],\n",
       "       [3.19148936e-01, 1.43066764e-01, 5.84539918e-02, 2.31299399e-02,\n",
       "        9.06513213e-03, 3.54328364e-03, 1.00000000e+00],\n",
       "       [6.38297872e-01, 4.51210565e-01, 3.08381778e-01, 2.08967247e-01,\n",
       "        1.41355256e-01, 9.55892086e-02, 1.00000000e+00]])"
      ]
     },
     "execution_count": 23,
     "metadata": {},
     "output_type": "execute_result"
    }
   ],
   "source": [
    "testX "
   ]
  },
  {
   "cell_type": "code",
   "execution_count": 25,
   "metadata": {},
   "outputs": [
    {
     "data": {
      "text/plain": [
       "array([ 47801.37359995,  68129.48434095,  82405.30480972, 117538.3969073 ,\n",
       "        64282.7531119 ,  95115.01428847])"
      ]
     },
     "execution_count": 25,
     "metadata": {},
     "output_type": "execute_result"
    }
   ],
   "source": [
    "forwardPass (testX, weights)"
   ]
  },
  {
   "cell_type": "code",
   "execution_count": 26,
   "metadata": {},
   "outputs": [
    {
     "data": {
      "text/plain": [
       "array([[ 39891.],\n",
       "       [ 61111.],\n",
       "       [ 81363.],\n",
       "       [112635.],\n",
       "       [ 57081.],\n",
       "       [ 98273.]])"
      ]
     },
     "execution_count": 26,
     "metadata": {},
     "output_type": "execute_result"
    }
   ],
   "source": [
    "testY"
   ]
  },
  {
   "cell_type": "code",
   "execution_count": null,
   "metadata": {},
   "outputs": [],
   "source": []
  }
 ],
 "metadata": {
  "kernelspec": {
   "display_name": "Python 3",
   "language": "python",
   "name": "python3"
  },
  "language_info": {
   "codemirror_mode": {
    "name": "ipython",
    "version": 3
   },
   "file_extension": ".py",
   "mimetype": "text/x-python",
   "name": "python",
   "nbconvert_exporter": "python",
   "pygments_lexer": "ipython3",
   "version": "3.6.5"
  }
 },
 "nbformat": 4,
 "nbformat_minor": 2
}
