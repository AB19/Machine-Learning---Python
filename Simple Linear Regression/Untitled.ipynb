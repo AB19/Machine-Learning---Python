{
 "cells": [
  {
   "cell_type": "markdown",
   "metadata": {},
   "source": [
    "### Simple (Univariate) Linear Regression - Single Feature\n",
    "\n",
    "#### 1. Numpy"
   ]
  },
  {
   "cell_type": "code",
   "execution_count": 1,
   "metadata": {},
   "outputs": [],
   "source": [
    "import numpy as np\n",
    "import pandas as pd\n",
    "import matplotlib.pyplot as plt"
   ]
  },
  {
   "cell_type": "code",
   "execution_count": 2,
   "metadata": {},
   "outputs": [],
   "source": [
    "# function to read data and output features and labels\n",
    "# arguments: file name\n",
    "# return values: features, labels\n",
    "def readData (file):\n",
    "    data = pd.read_csv (file)\n",
    "    X = data.iloc [:, 0].values\n",
    "    Y = data.iloc [:, 1].values\n",
    "    return X, Y"
   ]
  },
  {
   "cell_type": "code",
   "execution_count": 3,
   "metadata": {},
   "outputs": [],
   "source": [
    "# forward pass\n",
    "# arguments: weight, bias, X\n",
    "# return values: predicted y (yhat)\n",
    "def forwardPass (weight, bias, X):\n",
    "    return (weight * X) + bias "
   ]
  },
  {
   "cell_type": "code",
   "execution_count": 4,
   "metadata": {},
   "outputs": [],
   "source": [
    "# cost\n",
    "# arguments: yhat, y\n",
    "# return values: cost\n",
    "def costCalulator (yhat, Y):\n",
    "    return ((1/ (2 * len (Y))) * (np.sum ((yhat - Y) ** 2)))"
   ]
  },
  {
   "cell_type": "code",
   "execution_count": 5,
   "metadata": {},
   "outputs": [],
   "source": [
    "# gradient descent\n",
    "# arguments: X, Y, learning rate and iterations\n",
    "# return value: weight, bias and costs\n",
    "def gradientDescent (X, Y, learningRate = 0.01, iterations = 100):\n",
    "    weight, bias = 0, 0\n",
    "    costs = []\n",
    "    for _ in range (iterations):\n",
    "        yhat = forwardPass (weight, bias, X)\n",
    "        costs.append (costCalulator (yhat, Y))\n",
    "        weight = weight - ((learningRate/ len (X)) * np.sum (np.multiply ((yhat - Y), X)))\n",
    "        bias = bias - ((learningRate/ len (X)) * np.sum (yhat - Y))\n",
    "    return weight, bias, costs"
   ]
  },
  {
   "cell_type": "code",
   "execution_count": 6,
   "metadata": {},
   "outputs": [],
   "source": [
    "def plotLinearReg (X, Y, weight, bias):\n",
    "    yhat = forwardPass (weight, bias, X)\n",
    "    plt.scatter (X, Y)\n",
    "    plt.plot (X, yhat)\n",
    "    plt.xlabel ('Experience in years')\n",
    "    plt.ylabel ('Salary')\n",
    "    plt.show ()"
   ]
  },
  {
   "cell_type": "code",
   "execution_count": 7,
   "metadata": {},
   "outputs": [],
   "source": [
    "X, Y = readData ('./Data/Salary_Data.csv')\n",
    "weight, bias, costs = gradientDescent (X, Y, learningRate = 0.05, iterations = 10000)"
   ]
  },
  {
   "cell_type": "code",
   "execution_count": 8,
   "metadata": {},
   "outputs": [
    {
     "name": "stdout",
     "output_type": "stream",
     "text": [
      "Weight: 9449.9623214551\n",
      "Bias: 25792.20019866854\n"
     ]
    }
   ],
   "source": [
    "print (\"Weight: \" + str (weight))\n",
    "print (\"Bias: \" + str (bias))"
   ]
  },
  {
   "cell_type": "code",
   "execution_count": 9,
   "metadata": {},
   "outputs": [
    {
     "data": {
      "text/plain": [
       "Text(0,0.5,'Cost')"
      ]
     },
     "execution_count": 9,
     "metadata": {},
     "output_type": "execute_result"
    },
    {
     "data": {
      "image/png": "[encoded data removed]",
      "text/plain": [
       "<Figure size 432x288 with 1 Axes>"
      ]
     },
     "metadata": {},
     "output_type": "display_data"
    }
   ],
   "source": [
    "# plot the cost vs iteration\n",
    "plt.plot (range (10000), costs)\n",
    "plt.xlabel ('Iterations')\n",
    "plt.ylabel ('Cost')"
   ]
  },
  {
   "cell_type": "code",
   "execution_count": 10,
   "metadata": {},
   "outputs": [
    {
     "name": "stdout",
     "output_type": "stream",
     "text": [
      "Our model predicts that for 1.6 years of experience the salary is 40912.1399129967\n"
     ]
    }
   ],
   "source": [
    "# try a sample prediction \n",
    "predictedValue = forwardPass (weight, bias, 1.6)\n",
    "print (\"Our model predicts that for 1.6 years of experience the salary is \" + str (predictedValue))"
   ]
  },
  {
   "cell_type": "code",
   "execution_count": 11,
   "metadata": {},
   "outputs": [
    {
     "data": {
      "image/png": "[encoded data removed]",
      "text/plain": [
       "<Figure size 432x288 with 1 Axes>"
      ]
     },
     "metadata": {},
     "output_type": "display_data"
    }
   ],
   "source": [
    "plotLinearReg (X, Y, weight, bias)"
   ]
  },
  {
   "cell_type": "markdown",
   "metadata": {},
   "source": [
    "#### 2. Scikit-Learn - to verify our model"
   ]
  },
  {
   "cell_type": "code",
   "execution_count": 12,
   "metadata": {},
   "outputs": [],
   "source": [
    "from sklearn.linear_model import LinearRegression\n",
    "lr = LinearRegression ()"
   ]
  },
  {
   "cell_type": "code",
   "execution_count": 13,
   "metadata": {},
   "outputs": [],
   "source": [
    "# reshape the data, so that it could be fed into the lr object\n",
    "X = np.reshape (X, (30, 1))\n",
    "Y = np.reshape (Y, (30, 1))"
   ]
  },
  {
   "cell_type": "code",
   "execution_count": 14,
   "metadata": {},
   "outputs": [
    {
     "data": {
      "text/plain": [
       "LinearRegression(copy_X=True, fit_intercept=True, n_jobs=1, normalize=False)"
      ]
     },
     "execution_count": 14,
     "metadata": {},
     "output_type": "execute_result"
    }
   ],
   "source": [
    "lr.fit (X, Y)"
   ]
  },
  {
   "cell_type": "code",
   "execution_count": 15,
   "metadata": {},
   "outputs": [
    {
     "name": "stdout",
     "output_type": "stream",
     "text": [
      "Weight: [[9449.96232146]]\n",
      "Bias: [25792.20019867]\n"
     ]
    }
   ],
   "source": [
    "print (\"Weight: \" + str (lr.coef_))\n",
    "print (\"Bias: \" + str (lr.intercept_))"
   ]
  },
  {
   "cell_type": "code",
   "execution_count": 16,
   "metadata": {},
   "outputs": [
    {
     "name": "stdout",
     "output_type": "stream",
     "text": [
      "Scikit-learn predicts that for 1.6 years of experience the salary is [[40912.139913]]\n"
     ]
    }
   ],
   "source": [
    "predictedValue = lr.predict ([[1.6]])\n",
    "print (\"Scikit-learn predicts that for 1.6 years of experience the salary is \" + str (predictedValue))"
   ]
  },
  {
   "cell_type": "markdown",
   "metadata": {},
   "source": [
    "#### 3. Setting up a grid search in numpy\n",
    "\n",
    "Identify the parameters that can be tuned - iterations and learning rate. These are called hyper-parameters"
   ]
  },
  {
   "cell_type": "code",
   "execution_count": 17,
   "metadata": {},
   "outputs": [
    {
     "name": "stderr",
     "output_type": "stream",
     "text": [
      "C:\\Users\\abhil\\Anaconda3\\lib\\site-packages\\ipykernel_launcher.py:5: RuntimeWarning: overflow encountered in square\n",
      "  \"\"\"\n",
      "C:\\Users\\abhil\\Anaconda3\\lib\\site-packages\\numpy\\core\\_methods.py:32: RuntimeWarning: overflow encountered in reduce\n",
      "  return umr_sum(a, axis, dtype, out, keepdims)\n",
      "C:\\Users\\abhil\\Anaconda3\\lib\\site-packages\\ipykernel_launcher.py:10: RuntimeWarning: invalid value encountered in double_scalars\n",
      "  # Remove the CWD from sys.path while we load stuff.\n"
     ]
    }
   ],
   "source": [
    "iterations = [100, 1000, 10000, 15000]\n",
    "learningRates = [0.001, 0.003, 0.01, 0.03, 1]\n",
    "gridSearch = []\n",
    "for i in range (len (learningRates)):\n",
    "    for j in range (len (iterations)):\n",
    "        eachSearch = []\n",
    "        weight, bias, costs = gradientDescent (X, Y, learningRate = learningRates [i], iterations = iterations [j])\n",
    "        eachSearch.append (learningRates [i])\n",
    "        eachSearch.append (iterations [j])\n",
    "        eachSearch.append (costs [-1])\n",
    "        gridSearch.append (eachSearch)"
   ]
  },
  {
   "cell_type": "code",
   "execution_count": 18,
   "metadata": {},
   "outputs": [],
   "source": [
    "gridData = pd.DataFrame (gridSearch, columns = ['Learning Rate', 'Iterations', 'Error/ Cost'])"
   ]
  },
  {
   "cell_type": "code",
   "execution_count": 19,
   "metadata": {},
   "outputs": [
    {
     "data": {
      "text/html": [
       "<div>\n",
       "<style scoped>\n",
       "    .dataframe tbody tr th:only-of-type {\n",
       "        vertical-align: middle;\n",
       "    }\n",
       "\n",
       "    .dataframe tbody tr th {\n",
       "        vertical-align: top;\n",
       "    }\n",
       "\n",
       "    .dataframe thead th {\n",
       "        text-align: right;\n",
       "    }\n",
       "</style>\n",
       "<table border=\"1\" class=\"dataframe\">\n",
       "  <thead>\n",
       "    <tr style=\"text-align: right;\">\n",
       "      <th></th>\n",
       "      <th>Learning Rate</th>\n",
       "      <th>Iterations</th>\n",
       "      <th>Error/ Cost</th>\n",
       "    </tr>\n",
       "  </thead>\n",
       "  <tbody>\n",
       "    <tr>\n",
       "      <th>0</th>\n",
       "      <td>0.001</td>\n",
       "      <td>100</td>\n",
       "      <td>7.656129e+07</td>\n",
       "    </tr>\n",
       "    <tr>\n",
       "      <th>1</th>\n",
       "      <td>0.001</td>\n",
       "      <td>1000</td>\n",
       "      <td>5.597446e+07</td>\n",
       "    </tr>\n",
       "    <tr>\n",
       "      <th>2</th>\n",
       "      <td>0.001</td>\n",
       "      <td>10000</td>\n",
       "      <td>1.653085e+07</td>\n",
       "    </tr>\n",
       "    <tr>\n",
       "      <th>3</th>\n",
       "      <td>0.001</td>\n",
       "      <td>15000</td>\n",
       "      <td>1.574344e+07</td>\n",
       "    </tr>\n",
       "    <tr>\n",
       "      <th>4</th>\n",
       "      <td>0.003</td>\n",
       "      <td>100</td>\n",
       "      <td>6.992342e+07</td>\n",
       "    </tr>\n",
       "    <tr>\n",
       "      <th>5</th>\n",
       "      <td>0.003</td>\n",
       "      <td>1000</td>\n",
       "      <td>3.295288e+07</td>\n",
       "    </tr>\n",
       "    <tr>\n",
       "      <th>6</th>\n",
       "      <td>0.003</td>\n",
       "      <td>10000</td>\n",
       "      <td>1.563566e+07</td>\n",
       "    </tr>\n",
       "    <tr>\n",
       "      <th>7</th>\n",
       "      <td>0.003</td>\n",
       "      <td>15000</td>\n",
       "      <td>1.563548e+07</td>\n",
       "    </tr>\n",
       "    <tr>\n",
       "      <th>8</th>\n",
       "      <td>0.010</td>\n",
       "      <td>100</td>\n",
       "      <td>5.611219e+07</td>\n",
       "    </tr>\n",
       "    <tr>\n",
       "      <th>9</th>\n",
       "      <td>0.010</td>\n",
       "      <td>1000</td>\n",
       "      <td>1.653066e+07</td>\n",
       "    </tr>\n",
       "    <tr>\n",
       "      <th>10</th>\n",
       "      <td>0.010</td>\n",
       "      <td>10000</td>\n",
       "      <td>1.563548e+07</td>\n",
       "    </tr>\n",
       "    <tr>\n",
       "      <th>11</th>\n",
       "      <td>0.010</td>\n",
       "      <td>15000</td>\n",
       "      <td>1.563548e+07</td>\n",
       "    </tr>\n",
       "    <tr>\n",
       "      <th>12</th>\n",
       "      <td>0.030</td>\n",
       "      <td>100</td>\n",
       "      <td>3.308886e+07</td>\n",
       "    </tr>\n",
       "    <tr>\n",
       "      <th>13</th>\n",
       "      <td>0.030</td>\n",
       "      <td>1000</td>\n",
       "      <td>1.563566e+07</td>\n",
       "    </tr>\n",
       "    <tr>\n",
       "      <th>14</th>\n",
       "      <td>0.030</td>\n",
       "      <td>10000</td>\n",
       "      <td>1.563548e+07</td>\n",
       "    </tr>\n",
       "    <tr>\n",
       "      <th>15</th>\n",
       "      <td>0.030</td>\n",
       "      <td>15000</td>\n",
       "      <td>1.563548e+07</td>\n",
       "    </tr>\n",
       "    <tr>\n",
       "      <th>16</th>\n",
       "      <td>1.000</td>\n",
       "      <td>100</td>\n",
       "      <td>inf</td>\n",
       "    </tr>\n",
       "    <tr>\n",
       "      <th>17</th>\n",
       "      <td>1.000</td>\n",
       "      <td>1000</td>\n",
       "      <td>NaN</td>\n",
       "    </tr>\n",
       "    <tr>\n",
       "      <th>18</th>\n",
       "      <td>1.000</td>\n",
       "      <td>10000</td>\n",
       "      <td>NaN</td>\n",
       "    </tr>\n",
       "    <tr>\n",
       "      <th>19</th>\n",
       "      <td>1.000</td>\n",
       "      <td>15000</td>\n",
       "      <td>NaN</td>\n",
       "    </tr>\n",
       "  </tbody>\n",
       "</table>\n",
       "</div>"
      ],
      "text/plain": [
       "    Learning Rate  Iterations   Error/ Cost\n",
       "0           0.001         100  7.656129e+07\n",
       "1           0.001        1000  5.597446e+07\n",
       "2           0.001       10000  1.653085e+07\n",
       "3           0.001       15000  1.574344e+07\n",
       "4           0.003         100  6.992342e+07\n",
       "5           0.003        1000  3.295288e+07\n",
       "6           0.003       10000  1.563566e+07\n",
       "7           0.003       15000  1.563548e+07\n",
       "8           0.010         100  5.611219e+07\n",
       "9           0.010        1000  1.653066e+07\n",
       "10          0.010       10000  1.563548e+07\n",
       "11          0.010       15000  1.563548e+07\n",
       "12          0.030         100  3.308886e+07\n",
       "13          0.030        1000  1.563566e+07\n",
       "14          0.030       10000  1.563548e+07\n",
       "15          0.030       15000  1.563548e+07\n",
       "16          1.000         100           inf\n",
       "17          1.000        1000           NaN\n",
       "18          1.000       10000           NaN\n",
       "19          1.000       15000           NaN"
      ]
     },
     "execution_count": 19,
     "metadata": {},
     "output_type": "execute_result"
    }
   ],
   "source": [
    "gridData"
   ]
  }
 ],
 "metadata": {
  "kernelspec": {
   "display_name": "Python 3",
   "language": "python",
   "name": "python3"
  },
  "language_info": {
   "codemirror_mode": {
    "name": "ipython",
    "version": 3
   },
   "file_extension": ".py",
   "mimetype": "text/x-python",
   "name": "python",
   "nbconvert_exporter": "python",
   "pygments_lexer": "ipython3",
   "version": "3.6.5"
  }
 },
 "nbformat": 4,
 "nbformat_minor": 2
}
